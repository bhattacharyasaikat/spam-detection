{
 "cells": [
  {
   "cell_type": "code",
   "execution_count": 1,
   "id": "4f32b9ae",
   "metadata": {},
   "outputs": [],
   "source": [
    "import numpy as np\n",
    "import pandas as pd"
   ]
  },
  {
   "cell_type": "code",
   "execution_count": 2,
   "id": "520fa08c",
   "metadata": {},
   "outputs": [
    {
     "name": "stdout",
     "output_type": "stream",
     "text": [
      "(5572, 5)\n"
     ]
    }
   ],
   "source": [
    "df = pd.read_csv('spam.csv',encoding='ISO-8859-1')\n",
    "print(df.shape)"
   ]
  },
  {
   "cell_type": "code",
   "execution_count": 3,
   "id": "3fbf22fb",
   "metadata": {},
   "outputs": [],
   "source": [
    "#df = pd.read_csv('spam.csv',encoding='ISO-8859-1',chunksize=1000)"
   ]
  },
  {
   "cell_type": "code",
   "execution_count": 4,
   "id": "07166aa3",
   "metadata": {},
   "outputs": [],
   "source": [
    "# for chunk in df:\n",
    "#     print(chunk.shape)"
   ]
  },
  {
   "cell_type": "code",
   "execution_count": 5,
   "id": "72c18c9d",
   "metadata": {},
   "outputs": [],
   "source": [
    "#  *** Workflow***\n",
    "\n",
    "# 1. Data cleaning\n",
    "# 2. EDA\n",
    "# 3. Text Preprocessing\n",
    "# 4. Model Building\n",
    "# 5. Evaluation\n",
    "# 6. Improvement\n",
    "# 7. Website\n",
    "# 8. Deploy"
   ]
  },
  {
   "cell_type": "markdown",
   "id": "c55f6115",
   "metadata": {},
   "source": [
    "## 1. Data cleaning"
   ]
  },
  {
   "cell_type": "code",
   "execution_count": 6,
   "id": "532c4871",
   "metadata": {},
   "outputs": [
    {
     "name": "stdout",
     "output_type": "stream",
     "text": [
      "<class 'pandas.core.frame.DataFrame'>\n",
      "RangeIndex: 5572 entries, 0 to 5571\n",
      "Data columns (total 5 columns):\n",
      " #   Column      Non-Null Count  Dtype \n",
      "---  ------      --------------  ----- \n",
      " 0   v1          5572 non-null   object\n",
      " 1   v2          5572 non-null   object\n",
      " 2   Unnamed: 2  50 non-null     object\n",
      " 3   Unnamed: 3  12 non-null     object\n",
      " 4   Unnamed: 4  6 non-null      object\n",
      "dtypes: object(5)\n",
      "memory usage: 217.8+ KB\n"
     ]
    }
   ],
   "source": [
    "df.info()"
   ]
  },
  {
   "cell_type": "code",
   "execution_count": 7,
   "id": "6cb4a081",
   "metadata": {},
   "outputs": [],
   "source": [
    "# observation unnames2 , unnamed 3,unnamed4 has very less value.so remove these cols\n",
    "df.drop(columns = [\"Unnamed: 2\",\"Unnamed: 3\",\"Unnamed: 4\"],inplace=True)"
   ]
  },
  {
   "cell_type": "code",
   "execution_count": 8,
   "id": "6c0d7d3b",
   "metadata": {},
   "outputs": [
    {
     "data": {
      "text/html": [
       "<div>\n",
       "<style scoped>\n",
       "    .dataframe tbody tr th:only-of-type {\n",
       "        vertical-align: middle;\n",
       "    }\n",
       "\n",
       "    .dataframe tbody tr th {\n",
       "        vertical-align: top;\n",
       "    }\n",
       "\n",
       "    .dataframe thead th {\n",
       "        text-align: right;\n",
       "    }\n",
       "</style>\n",
       "<table border=\"1\" class=\"dataframe\">\n",
       "  <thead>\n",
       "    <tr style=\"text-align: right;\">\n",
       "      <th></th>\n",
       "      <th>v1</th>\n",
       "      <th>v2</th>\n",
       "    </tr>\n",
       "  </thead>\n",
       "  <tbody>\n",
       "    <tr>\n",
       "      <th>0</th>\n",
       "      <td>ham</td>\n",
       "      <td>Go until jurong point, crazy.. Available only ...</td>\n",
       "    </tr>\n",
       "    <tr>\n",
       "      <th>1</th>\n",
       "      <td>ham</td>\n",
       "      <td>Ok lar... Joking wif u oni...</td>\n",
       "    </tr>\n",
       "    <tr>\n",
       "      <th>2</th>\n",
       "      <td>spam</td>\n",
       "      <td>Free entry in 2 a wkly comp to win FA Cup fina...</td>\n",
       "    </tr>\n",
       "    <tr>\n",
       "      <th>3</th>\n",
       "      <td>ham</td>\n",
       "      <td>U dun say so early hor... U c already then say...</td>\n",
       "    </tr>\n",
       "    <tr>\n",
       "      <th>4</th>\n",
       "      <td>ham</td>\n",
       "      <td>Nah I don't think he goes to usf, he lives aro...</td>\n",
       "    </tr>\n",
       "  </tbody>\n",
       "</table>\n",
       "</div>"
      ],
      "text/plain": [
       "     v1                                                 v2\n",
       "0   ham  Go until jurong point, crazy.. Available only ...\n",
       "1   ham                      Ok lar... Joking wif u oni...\n",
       "2  spam  Free entry in 2 a wkly comp to win FA Cup fina...\n",
       "3   ham  U dun say so early hor... U c already then say...\n",
       "4   ham  Nah I don't think he goes to usf, he lives aro..."
      ]
     },
     "execution_count": 8,
     "metadata": {},
     "output_type": "execute_result"
    }
   ],
   "source": [
    "df.head()"
   ]
  },
  {
   "cell_type": "code",
   "execution_count": 9,
   "id": "45b836fe",
   "metadata": {},
   "outputs": [],
   "source": [
    "# renaing the cols title\n",
    "\n",
    "df.rename(columns = {\"v1\":\"output\" , \"v2\":\"messages\"},inplace=True)"
   ]
  },
  {
   "cell_type": "code",
   "execution_count": 10,
   "id": "50806fc1",
   "metadata": {},
   "outputs": [
    {
     "data": {
      "text/html": [
       "<div>\n",
       "<style scoped>\n",
       "    .dataframe tbody tr th:only-of-type {\n",
       "        vertical-align: middle;\n",
       "    }\n",
       "\n",
       "    .dataframe tbody tr th {\n",
       "        vertical-align: top;\n",
       "    }\n",
       "\n",
       "    .dataframe thead th {\n",
       "        text-align: right;\n",
       "    }\n",
       "</style>\n",
       "<table border=\"1\" class=\"dataframe\">\n",
       "  <thead>\n",
       "    <tr style=\"text-align: right;\">\n",
       "      <th></th>\n",
       "      <th>output</th>\n",
       "      <th>messages</th>\n",
       "    </tr>\n",
       "  </thead>\n",
       "  <tbody>\n",
       "    <tr>\n",
       "      <th>0</th>\n",
       "      <td>ham</td>\n",
       "      <td>Go until jurong point, crazy.. Available only ...</td>\n",
       "    </tr>\n",
       "    <tr>\n",
       "      <th>1</th>\n",
       "      <td>ham</td>\n",
       "      <td>Ok lar... Joking wif u oni...</td>\n",
       "    </tr>\n",
       "    <tr>\n",
       "      <th>2</th>\n",
       "      <td>spam</td>\n",
       "      <td>Free entry in 2 a wkly comp to win FA Cup fina...</td>\n",
       "    </tr>\n",
       "    <tr>\n",
       "      <th>3</th>\n",
       "      <td>ham</td>\n",
       "      <td>U dun say so early hor... U c already then say...</td>\n",
       "    </tr>\n",
       "    <tr>\n",
       "      <th>4</th>\n",
       "      <td>ham</td>\n",
       "      <td>Nah I don't think he goes to usf, he lives aro...</td>\n",
       "    </tr>\n",
       "  </tbody>\n",
       "</table>\n",
       "</div>"
      ],
      "text/plain": [
       "  output                                           messages\n",
       "0    ham  Go until jurong point, crazy.. Available only ...\n",
       "1    ham                      Ok lar... Joking wif u oni...\n",
       "2   spam  Free entry in 2 a wkly comp to win FA Cup fina...\n",
       "3    ham  U dun say so early hor... U c already then say...\n",
       "4    ham  Nah I don't think he goes to usf, he lives aro..."
      ]
     },
     "execution_count": 10,
     "metadata": {},
     "output_type": "execute_result"
    }
   ],
   "source": [
    "df.head()"
   ]
  },
  {
   "cell_type": "code",
   "execution_count": 11,
   "id": "21f31cb6",
   "metadata": {},
   "outputs": [],
   "source": [
    "# there are 2 types of output spam and ham .. mark them as 0 1\n",
    "\n",
    "from sklearn.preprocessing import LabelEncoder\n",
    "encoder = LabelEncoder()\n",
    "df[\"output\"] = encoder.fit_transform(df['output'])"
   ]
  },
  {
   "cell_type": "code",
   "execution_count": 12,
   "id": "6b526fd0",
   "metadata": {},
   "outputs": [
    {
     "data": {
      "text/html": [
       "<div>\n",
       "<style scoped>\n",
       "    .dataframe tbody tr th:only-of-type {\n",
       "        vertical-align: middle;\n",
       "    }\n",
       "\n",
       "    .dataframe tbody tr th {\n",
       "        vertical-align: top;\n",
       "    }\n",
       "\n",
       "    .dataframe thead th {\n",
       "        text-align: right;\n",
       "    }\n",
       "</style>\n",
       "<table border=\"1\" class=\"dataframe\">\n",
       "  <thead>\n",
       "    <tr style=\"text-align: right;\">\n",
       "      <th></th>\n",
       "      <th>output</th>\n",
       "      <th>messages</th>\n",
       "    </tr>\n",
       "  </thead>\n",
       "  <tbody>\n",
       "    <tr>\n",
       "      <th>0</th>\n",
       "      <td>0</td>\n",
       "      <td>Go until jurong point, crazy.. Available only ...</td>\n",
       "    </tr>\n",
       "    <tr>\n",
       "      <th>1</th>\n",
       "      <td>0</td>\n",
       "      <td>Ok lar... Joking wif u oni...</td>\n",
       "    </tr>\n",
       "    <tr>\n",
       "      <th>2</th>\n",
       "      <td>1</td>\n",
       "      <td>Free entry in 2 a wkly comp to win FA Cup fina...</td>\n",
       "    </tr>\n",
       "    <tr>\n",
       "      <th>3</th>\n",
       "      <td>0</td>\n",
       "      <td>U dun say so early hor... U c already then say...</td>\n",
       "    </tr>\n",
       "    <tr>\n",
       "      <th>4</th>\n",
       "      <td>0</td>\n",
       "      <td>Nah I don't think he goes to usf, he lives aro...</td>\n",
       "    </tr>\n",
       "  </tbody>\n",
       "</table>\n",
       "</div>"
      ],
      "text/plain": [
       "   output                                           messages\n",
       "0       0  Go until jurong point, crazy.. Available only ...\n",
       "1       0                      Ok lar... Joking wif u oni...\n",
       "2       1  Free entry in 2 a wkly comp to win FA Cup fina...\n",
       "3       0  U dun say so early hor... U c already then say...\n",
       "4       0  Nah I don't think he goes to usf, he lives aro..."
      ]
     },
     "execution_count": 12,
     "metadata": {},
     "output_type": "execute_result"
    }
   ],
   "source": [
    "df.head()"
   ]
  },
  {
   "cell_type": "code",
   "execution_count": 13,
   "id": "df34de28",
   "metadata": {},
   "outputs": [
    {
     "data": {
      "text/plain": [
       "output      0\n",
       "messages    0\n",
       "dtype: int64"
      ]
     },
     "execution_count": 13,
     "metadata": {},
     "output_type": "execute_result"
    }
   ],
   "source": [
    "#check for missing values\n",
    "\n",
    "df.isna().sum() # no missing values."
   ]
  },
  {
   "cell_type": "code",
   "execution_count": 14,
   "id": "c0e0175d",
   "metadata": {},
   "outputs": [
    {
     "data": {
      "text/plain": [
       "403"
      ]
     },
     "execution_count": 14,
     "metadata": {},
     "output_type": "execute_result"
    }
   ],
   "source": [
    "#check duplicate values\n",
    "\n",
    "df.duplicated().sum()"
   ]
  },
  {
   "cell_type": "code",
   "execution_count": 15,
   "id": "e3b69efc",
   "metadata": {},
   "outputs": [],
   "source": [
    "# remove duplicates.\n",
    "df = df.drop_duplicates()"
   ]
  },
  {
   "cell_type": "code",
   "execution_count": 16,
   "id": "aae5db8a",
   "metadata": {},
   "outputs": [
    {
     "data": {
      "text/plain": [
       "0"
      ]
     },
     "execution_count": 16,
     "metadata": {},
     "output_type": "execute_result"
    }
   ],
   "source": [
    "df.duplicated().sum()"
   ]
  },
  {
   "cell_type": "markdown",
   "id": "0e51a513",
   "metadata": {},
   "source": [
    "## 2. EDA : Exploratory Data analysis."
   ]
  },
  {
   "cell_type": "code",
   "execution_count": 17,
   "id": "558d5acc",
   "metadata": {},
   "outputs": [
    {
     "data": {
      "text/html": [
       "<div>\n",
       "<style scoped>\n",
       "    .dataframe tbody tr th:only-of-type {\n",
       "        vertical-align: middle;\n",
       "    }\n",
       "\n",
       "    .dataframe tbody tr th {\n",
       "        vertical-align: top;\n",
       "    }\n",
       "\n",
       "    .dataframe thead th {\n",
       "        text-align: right;\n",
       "    }\n",
       "</style>\n",
       "<table border=\"1\" class=\"dataframe\">\n",
       "  <thead>\n",
       "    <tr style=\"text-align: right;\">\n",
       "      <th></th>\n",
       "      <th>output</th>\n",
       "      <th>messages</th>\n",
       "    </tr>\n",
       "  </thead>\n",
       "  <tbody>\n",
       "    <tr>\n",
       "      <th>0</th>\n",
       "      <td>0</td>\n",
       "      <td>Go until jurong point, crazy.. Available only ...</td>\n",
       "    </tr>\n",
       "    <tr>\n",
       "      <th>1</th>\n",
       "      <td>0</td>\n",
       "      <td>Ok lar... Joking wif u oni...</td>\n",
       "    </tr>\n",
       "    <tr>\n",
       "      <th>2</th>\n",
       "      <td>1</td>\n",
       "      <td>Free entry in 2 a wkly comp to win FA Cup fina...</td>\n",
       "    </tr>\n",
       "    <tr>\n",
       "      <th>3</th>\n",
       "      <td>0</td>\n",
       "      <td>U dun say so early hor... U c already then say...</td>\n",
       "    </tr>\n",
       "    <tr>\n",
       "      <th>4</th>\n",
       "      <td>0</td>\n",
       "      <td>Nah I don't think he goes to usf, he lives aro...</td>\n",
       "    </tr>\n",
       "  </tbody>\n",
       "</table>\n",
       "</div>"
      ],
      "text/plain": [
       "   output                                           messages\n",
       "0       0  Go until jurong point, crazy.. Available only ...\n",
       "1       0                      Ok lar... Joking wif u oni...\n",
       "2       1  Free entry in 2 a wkly comp to win FA Cup fina...\n",
       "3       0  U dun say so early hor... U c already then say...\n",
       "4       0  Nah I don't think he goes to usf, he lives aro..."
      ]
     },
     "execution_count": 17,
     "metadata": {},
     "output_type": "execute_result"
    }
   ],
   "source": [
    "df.head()"
   ]
  },
  {
   "cell_type": "code",
   "execution_count": 18,
   "id": "269e8eed",
   "metadata": {},
   "outputs": [
    {
     "data": {
      "text/plain": [
       "output\n",
       "0    4516\n",
       "1     653\n",
       "Name: count, dtype: int64"
      ]
     },
     "execution_count": 18,
     "metadata": {},
     "output_type": "execute_result"
    }
   ],
   "source": [
    "#check how many spam and ham msgs are there\n",
    "df[\"output\"].value_counts() # observation : imbalanced data as ham msgs (4516) > spam(653)"
   ]
  },
  {
   "cell_type": "code",
   "execution_count": 19,
   "id": "5fcc339e",
   "metadata": {},
   "outputs": [
    {
     "data": {
      "image/png": "[encoded data removed]",
      "text/plain": [
       "<Figure size 640x480 with 1 Axes>"
      ]
     },
     "metadata": {},
     "output_type": "display_data"
    }
   ],
   "source": [
    "# pplot it in pie chart\n",
    "import matplotlib.pyplot as plt\n",
    "plt.pie(df[\"output\"].value_counts(),labels = [\"ham\",\"spam\"],autopct = \"%0.2f\")\n",
    "plt.show() # 88 % are ham msgs and 13 % are spam"
   ]
  },
  {
   "cell_type": "code",
   "execution_count": 20,
   "id": "b63dd67e",
   "metadata": {},
   "outputs": [],
   "source": [
    "import nltk\n"
   ]
  },
  {
   "cell_type": "code",
   "execution_count": 21,
   "id": "1509b3d9",
   "metadata": {},
   "outputs": [],
   "source": [
    "df[\"num_of_char\"] = df[\"messages\"].apply(len)"
   ]
  },
  {
   "cell_type": "code",
   "execution_count": 22,
   "id": "a6414730",
   "metadata": {},
   "outputs": [
    {
     "data": {
      "text/html": [
       "<div>\n",
       "<style scoped>\n",
       "    .dataframe tbody tr th:only-of-type {\n",
       "        vertical-align: middle;\n",
       "    }\n",
       "\n",
       "    .dataframe tbody tr th {\n",
       "        vertical-align: top;\n",
       "    }\n",
       "\n",
       "    .dataframe thead th {\n",
       "        text-align: right;\n",
       "    }\n",
       "</style>\n",
       "<table border=\"1\" class=\"dataframe\">\n",
       "  <thead>\n",
       "    <tr style=\"text-align: right;\">\n",
       "      <th></th>\n",
       "      <th>output</th>\n",
       "      <th>messages</th>\n",
       "      <th>num_of_char</th>\n",
       "    </tr>\n",
       "  </thead>\n",
       "  <tbody>\n",
       "    <tr>\n",
       "      <th>0</th>\n",
       "      <td>0</td>\n",
       "      <td>Go until jurong point, crazy.. Available only ...</td>\n",
       "      <td>111</td>\n",
       "    </tr>\n",
       "    <tr>\n",
       "      <th>1</th>\n",
       "      <td>0</td>\n",
       "      <td>Ok lar... Joking wif u oni...</td>\n",
       "      <td>29</td>\n",
       "    </tr>\n",
       "    <tr>\n",
       "      <th>2</th>\n",
       "      <td>1</td>\n",
       "      <td>Free entry in 2 a wkly comp to win FA Cup fina...</td>\n",
       "      <td>155</td>\n",
       "    </tr>\n",
       "    <tr>\n",
       "      <th>3</th>\n",
       "      <td>0</td>\n",
       "      <td>U dun say so early hor... U c already then say...</td>\n",
       "      <td>49</td>\n",
       "    </tr>\n",
       "    <tr>\n",
       "      <th>4</th>\n",
       "      <td>0</td>\n",
       "      <td>Nah I don't think he goes to usf, he lives aro...</td>\n",
       "      <td>61</td>\n",
       "    </tr>\n",
       "  </tbody>\n",
       "</table>\n",
       "</div>"
      ],
      "text/plain": [
       "   output                                           messages  num_of_char\n",
       "0       0  Go until jurong point, crazy.. Available only ...          111\n",
       "1       0                      Ok lar... Joking wif u oni...           29\n",
       "2       1  Free entry in 2 a wkly comp to win FA Cup fina...          155\n",
       "3       0  U dun say so early hor... U c already then say...           49\n",
       "4       0  Nah I don't think he goes to usf, he lives aro...           61"
      ]
     },
     "execution_count": 22,
     "metadata": {},
     "output_type": "execute_result"
    }
   ],
   "source": [
    "df.head()"
   ]
  },
  {
   "cell_type": "code",
   "execution_count": 23,
   "id": "d09a89d8",
   "metadata": {},
   "outputs": [
    {
     "name": "stderr",
     "output_type": "stream",
     "text": [
      "[nltk_data] Downloading package words to\n",
      "[nltk_data]     C:\\Users\\User\\AppData\\Roaming\\nltk_data...\n",
      "[nltk_data]   Package words is already up-to-date!\n"
     ]
    },
    {
     "data": {
      "text/plain": [
       "True"
      ]
     },
     "execution_count": 23,
     "metadata": {},
     "output_type": "execute_result"
    }
   ],
   "source": [
    "nltk.download('words')"
   ]
  },
  {
   "cell_type": "code",
   "execution_count": 24,
   "id": "9b3f1041",
   "metadata": {},
   "outputs": [],
   "source": [
    " df[\"no_of_words\"] = df[\"messages\"].apply(lambda x: len(nltk.word_tokenize(x)))"
   ]
  },
  {
   "cell_type": "code",
   "execution_count": 25,
   "id": "00ca719c",
   "metadata": {},
   "outputs": [
    {
     "data": {
      "text/html": [
       "<div>\n",
       "<style scoped>\n",
       "    .dataframe tbody tr th:only-of-type {\n",
       "        vertical-align: middle;\n",
       "    }\n",
       "\n",
       "    .dataframe tbody tr th {\n",
       "        vertical-align: top;\n",
       "    }\n",
       "\n",
       "    .dataframe thead th {\n",
       "        text-align: right;\n",
       "    }\n",
       "</style>\n",
       "<table border=\"1\" class=\"dataframe\">\n",
       "  <thead>\n",
       "    <tr style=\"text-align: right;\">\n",
       "      <th></th>\n",
       "      <th>output</th>\n",
       "      <th>messages</th>\n",
       "      <th>num_of_char</th>\n",
       "      <th>no_of_words</th>\n",
       "    </tr>\n",
       "  </thead>\n",
       "  <tbody>\n",
       "    <tr>\n",
       "      <th>0</th>\n",
       "      <td>0</td>\n",
       "      <td>Go until jurong point, crazy.. Available only ...</td>\n",
       "      <td>111</td>\n",
       "      <td>24</td>\n",
       "    </tr>\n",
       "    <tr>\n",
       "      <th>1</th>\n",
       "      <td>0</td>\n",
       "      <td>Ok lar... Joking wif u oni...</td>\n",
       "      <td>29</td>\n",
       "      <td>8</td>\n",
       "    </tr>\n",
       "    <tr>\n",
       "      <th>2</th>\n",
       "      <td>1</td>\n",
       "      <td>Free entry in 2 a wkly comp to win FA Cup fina...</td>\n",
       "      <td>155</td>\n",
       "      <td>37</td>\n",
       "    </tr>\n",
       "    <tr>\n",
       "      <th>3</th>\n",
       "      <td>0</td>\n",
       "      <td>U dun say so early hor... U c already then say...</td>\n",
       "      <td>49</td>\n",
       "      <td>13</td>\n",
       "    </tr>\n",
       "    <tr>\n",
       "      <th>4</th>\n",
       "      <td>0</td>\n",
       "      <td>Nah I don't think he goes to usf, he lives aro...</td>\n",
       "      <td>61</td>\n",
       "      <td>15</td>\n",
       "    </tr>\n",
       "  </tbody>\n",
       "</table>\n",
       "</div>"
      ],
      "text/plain": [
       "   output                                           messages  num_of_char  \\\n",
       "0       0  Go until jurong point, crazy.. Available only ...          111   \n",
       "1       0                      Ok lar... Joking wif u oni...           29   \n",
       "2       1  Free entry in 2 a wkly comp to win FA Cup fina...          155   \n",
       "3       0  U dun say so early hor... U c already then say...           49   \n",
       "4       0  Nah I don't think he goes to usf, he lives aro...           61   \n",
       "\n",
       "   no_of_words  \n",
       "0           24  \n",
       "1            8  \n",
       "2           37  \n",
       "3           13  \n",
       "4           15  "
      ]
     },
     "execution_count": 25,
     "metadata": {},
     "output_type": "execute_result"
    }
   ],
   "source": [
    "df.head()"
   ]
  },
  {
   "cell_type": "code",
   "execution_count": 26,
   "id": "c0e16519",
   "metadata": {},
   "outputs": [
    {
     "data": {
      "text/html": [
       "<div>\n",
       "<style scoped>\n",
       "    .dataframe tbody tr th:only-of-type {\n",
       "        vertical-align: middle;\n",
       "    }\n",
       "\n",
       "    .dataframe tbody tr th {\n",
       "        vertical-align: top;\n",
       "    }\n",
       "\n",
       "    .dataframe thead th {\n",
       "        text-align: right;\n",
       "    }\n",
       "</style>\n",
       "<table border=\"1\" class=\"dataframe\">\n",
       "  <thead>\n",
       "    <tr style=\"text-align: right;\">\n",
       "      <th></th>\n",
       "      <th>num_of_char</th>\n",
       "      <th>no_of_words</th>\n",
       "    </tr>\n",
       "  </thead>\n",
       "  <tbody>\n",
       "    <tr>\n",
       "      <th>count</th>\n",
       "      <td>4516.000000</td>\n",
       "      <td>4516.000000</td>\n",
       "    </tr>\n",
       "    <tr>\n",
       "      <th>mean</th>\n",
       "      <td>70.459256</td>\n",
       "      <td>17.123782</td>\n",
       "    </tr>\n",
       "    <tr>\n",
       "      <th>std</th>\n",
       "      <td>56.358207</td>\n",
       "      <td>13.493970</td>\n",
       "    </tr>\n",
       "    <tr>\n",
       "      <th>min</th>\n",
       "      <td>2.000000</td>\n",
       "      <td>1.000000</td>\n",
       "    </tr>\n",
       "    <tr>\n",
       "      <th>25%</th>\n",
       "      <td>34.000000</td>\n",
       "      <td>8.000000</td>\n",
       "    </tr>\n",
       "    <tr>\n",
       "      <th>50%</th>\n",
       "      <td>52.000000</td>\n",
       "      <td>13.000000</td>\n",
       "    </tr>\n",
       "    <tr>\n",
       "      <th>75%</th>\n",
       "      <td>90.000000</td>\n",
       "      <td>22.000000</td>\n",
       "    </tr>\n",
       "    <tr>\n",
       "      <th>max</th>\n",
       "      <td>910.000000</td>\n",
       "      <td>220.000000</td>\n",
       "    </tr>\n",
       "  </tbody>\n",
       "</table>\n",
       "</div>"
      ],
      "text/plain": [
       "       num_of_char  no_of_words\n",
       "count  4516.000000  4516.000000\n",
       "mean     70.459256    17.123782\n",
       "std      56.358207    13.493970\n",
       "min       2.000000     1.000000\n",
       "25%      34.000000     8.000000\n",
       "50%      52.000000    13.000000\n",
       "75%      90.000000    22.000000\n",
       "max     910.000000   220.000000"
      ]
     },
     "execution_count": 26,
     "metadata": {},
     "output_type": "execute_result"
    }
   ],
   "source": [
    "# ham msgs\n",
    "df[df[\"output\"]== 0][[\"num_of_char\",\"no_of_words\"]].describe()"
   ]
  },
  {
   "cell_type": "code",
   "execution_count": 27,
   "id": "063fd7b6",
   "metadata": {},
   "outputs": [
    {
     "data": {
      "text/html": [
       "<div>\n",
       "<style scoped>\n",
       "    .dataframe tbody tr th:only-of-type {\n",
       "        vertical-align: middle;\n",
       "    }\n",
       "\n",
       "    .dataframe tbody tr th {\n",
       "        vertical-align: top;\n",
       "    }\n",
       "\n",
       "    .dataframe thead th {\n",
       "        text-align: right;\n",
       "    }\n",
       "</style>\n",
       "<table border=\"1\" class=\"dataframe\">\n",
       "  <thead>\n",
       "    <tr style=\"text-align: right;\">\n",
       "      <th></th>\n",
       "      <th>num_of_char</th>\n",
       "      <th>no_of_words</th>\n",
       "    </tr>\n",
       "  </thead>\n",
       "  <tbody>\n",
       "    <tr>\n",
       "      <th>count</th>\n",
       "      <td>653.000000</td>\n",
       "      <td>653.000000</td>\n",
       "    </tr>\n",
       "    <tr>\n",
       "      <th>mean</th>\n",
       "      <td>137.891271</td>\n",
       "      <td>27.667688</td>\n",
       "    </tr>\n",
       "    <tr>\n",
       "      <th>std</th>\n",
       "      <td>30.137753</td>\n",
       "      <td>7.008418</td>\n",
       "    </tr>\n",
       "    <tr>\n",
       "      <th>min</th>\n",
       "      <td>13.000000</td>\n",
       "      <td>2.000000</td>\n",
       "    </tr>\n",
       "    <tr>\n",
       "      <th>25%</th>\n",
       "      <td>132.000000</td>\n",
       "      <td>25.000000</td>\n",
       "    </tr>\n",
       "    <tr>\n",
       "      <th>50%</th>\n",
       "      <td>149.000000</td>\n",
       "      <td>29.000000</td>\n",
       "    </tr>\n",
       "    <tr>\n",
       "      <th>75%</th>\n",
       "      <td>157.000000</td>\n",
       "      <td>32.000000</td>\n",
       "    </tr>\n",
       "    <tr>\n",
       "      <th>max</th>\n",
       "      <td>224.000000</td>\n",
       "      <td>46.000000</td>\n",
       "    </tr>\n",
       "  </tbody>\n",
       "</table>\n",
       "</div>"
      ],
      "text/plain": [
       "       num_of_char  no_of_words\n",
       "count   653.000000   653.000000\n",
       "mean    137.891271    27.667688\n",
       "std      30.137753     7.008418\n",
       "min      13.000000     2.000000\n",
       "25%     132.000000    25.000000\n",
       "50%     149.000000    29.000000\n",
       "75%     157.000000    32.000000\n",
       "max     224.000000    46.000000"
      ]
     },
     "execution_count": 27,
     "metadata": {},
     "output_type": "execute_result"
    }
   ],
   "source": [
    "# spam msgs\n",
    "df[df[\"output\"]== 1][[\"num_of_char\",\"no_of_words\"]].describe()"
   ]
  },
  {
   "cell_type": "code",
   "execution_count": 28,
   "id": "03f819a2",
   "metadata": {},
   "outputs": [],
   "source": [
    "# clearly seen, for ham msgs the num of char (70) is less than spam msgs num of char (137)\n",
    "# so spam msgs are bigger than ham msgs."
   ]
  },
  {
   "cell_type": "code",
   "execution_count": 29,
   "id": "38602189",
   "metadata": {},
   "outputs": [
    {
     "name": "stderr",
     "output_type": "stream",
     "text": [
      "C:\\Users\\User\\anaconda3\\Lib\\site-packages\\seaborn\\_oldcore.py:1119: FutureWarning: use_inf_as_na option is deprecated and will be removed in a future version. Convert inf values to NaN before operating instead.\n",
      "  with pd.option_context('mode.use_inf_as_na', True):\n",
      "C:\\Users\\User\\anaconda3\\Lib\\site-packages\\seaborn\\_oldcore.py:1119: FutureWarning: use_inf_as_na option is deprecated and will be removed in a future version. Convert inf values to NaN before operating instead.\n",
      "  with pd.option_context('mode.use_inf_as_na', True):\n"
     ]
    },
    {
     "data": {
      "text/plain": [
       "<Axes: xlabel='num_of_char', ylabel='Count'>"
      ]
     },
     "execution_count": 29,
     "metadata": {},
     "output_type": "execute_result"
    },
    {
     "data": {
      "image/png": "[encoded data removed]",
      "text/plain": [
       "<Figure size 1000x600 with 1 Axes>"
      ]
     },
     "metadata": {},
     "output_type": "display_data"
    }
   ],
   "source": [
    "import seaborn as sns\n",
    "plt.figure(figsize=(10,6))\n",
    "sns.histplot(df[df[\"output\"]==0][\"num_of_char\"]) # for ham\n",
    "sns.histplot(df[df[\"output\"]==1][\"num_of_char\"]) # for spam"
   ]
  },
  {
   "cell_type": "code",
   "execution_count": 30,
   "id": "3a4f088a",
   "metadata": {},
   "outputs": [
    {
     "data": {
      "text/html": [
       "<div>\n",
       "<style scoped>\n",
       "    .dataframe tbody tr th:only-of-type {\n",
       "        vertical-align: middle;\n",
       "    }\n",
       "\n",
       "    .dataframe tbody tr th {\n",
       "        vertical-align: top;\n",
       "    }\n",
       "\n",
       "    .dataframe thead th {\n",
       "        text-align: right;\n",
       "    }\n",
       "</style>\n",
       "<table border=\"1\" class=\"dataframe\">\n",
       "  <thead>\n",
       "    <tr style=\"text-align: right;\">\n",
       "      <th></th>\n",
       "      <th>output</th>\n",
       "      <th>num_of_char</th>\n",
       "      <th>no_of_words</th>\n",
       "    </tr>\n",
       "  </thead>\n",
       "  <tbody>\n",
       "    <tr>\n",
       "      <th>output</th>\n",
       "      <td>1.000000</td>\n",
       "      <td>0.384717</td>\n",
       "      <td>0.262912</td>\n",
       "    </tr>\n",
       "    <tr>\n",
       "      <th>num_of_char</th>\n",
       "      <td>0.384717</td>\n",
       "      <td>1.000000</td>\n",
       "      <td>0.965760</td>\n",
       "    </tr>\n",
       "    <tr>\n",
       "      <th>no_of_words</th>\n",
       "      <td>0.262912</td>\n",
       "      <td>0.965760</td>\n",
       "      <td>1.000000</td>\n",
       "    </tr>\n",
       "  </tbody>\n",
       "</table>\n",
       "</div>"
      ],
      "text/plain": [
       "               output  num_of_char  no_of_words\n",
       "output       1.000000     0.384717     0.262912\n",
       "num_of_char  0.384717     1.000000     0.965760\n",
       "no_of_words  0.262912     0.965760     1.000000"
      ]
     },
     "execution_count": 30,
     "metadata": {},
     "output_type": "execute_result"
    }
   ],
   "source": [
    "# check corelation\n",
    "\n",
    "df.corr(numeric_only = True)"
   ]
  },
  {
   "cell_type": "code",
   "execution_count": 31,
   "id": "8c727e2e",
   "metadata": {},
   "outputs": [
    {
     "data": {
      "text/plain": [
       "<Axes: >"
      ]
     },
     "execution_count": 31,
     "metadata": {},
     "output_type": "execute_result"
    },
    {
     "data": {
      "image/png": "[encoded data removed]",
      "text/plain": [
       "<Figure size 640x480 with 2 Axes>"
      ]
     },
     "metadata": {},
     "output_type": "display_data"
    }
   ],
   "source": [
    "sns.heatmap(df.corr(numeric_only = True),annot = True)\n",
    "# output and num of char correlation is high (0.38). \n",
    "# when we build model we will use num of char "
   ]
  },
  {
   "cell_type": "markdown",
   "id": "20b06195",
   "metadata": {},
   "source": [
    "## 3. Data Preprocessing\n",
    "- lower case\n",
    "- tokenization\n",
    "- remove special characters\n",
    "- remove stop words\n",
    "- stemming / lemmatization"
   ]
  },
  {
   "cell_type": "code",
   "execution_count": 32,
   "id": "a180fdf1",
   "metadata": {},
   "outputs": [
    {
     "name": "stderr",
     "output_type": "stream",
     "text": [
      "[nltk_data] Downloading package stopwords to\n",
      "[nltk_data]     C:\\Users\\User\\AppData\\Roaming\\nltk_data...\n",
      "[nltk_data]   Package stopwords is already up-to-date!\n",
      "[nltk_data] Downloading package wordnet to\n",
      "[nltk_data]     C:\\Users\\User\\AppData\\Roaming\\nltk_data...\n",
      "[nltk_data]   Package wordnet is already up-to-date!\n"
     ]
    },
    {
     "data": {
      "text/plain": [
       "True"
      ]
     },
     "execution_count": 32,
     "metadata": {},
     "output_type": "execute_result"
    }
   ],
   "source": [
    "import nltk\n",
    "from nltk.corpus import stopwords\n",
    "nltk.download('stopwords')\n",
    "import string\n",
    "punctuation_marks = string.punctuation\n",
    "from nltk.stem import WordNetLemmatizer\n",
    "nltk.download('wordnet') \n"
   ]
  },
  {
   "cell_type": "code",
   "execution_count": 33,
   "id": "b8bd27f7",
   "metadata": {},
   "outputs": [
    {
     "data": {
      "text/plain": [
       "'!\"#$%&\\'()*+,-./:;<=>?@[\\\\]^_`{|}~'"
      ]
     },
     "execution_count": 33,
     "metadata": {},
     "output_type": "execute_result"
    }
   ],
   "source": [
    "punctuation_marks\n"
   ]
  },
  {
   "cell_type": "code",
   "execution_count": 34,
   "id": "0df39092",
   "metadata": {},
   "outputs": [],
   "source": [
    "text = []\n",
    "punctuation_marks = string.punctuation\n",
    "lemmatized_text = []\n",
    "lemmatizer = WordNetLemmatizer()\n",
    "def text_preprocess(msg):\n",
    "    msg = msg.lower()\n",
    "    msg = nltk.word_tokenize(msg)\n",
    "    temp=[]\n",
    "    \n",
    "    for word in msg:\n",
    "        if word not in stopwords.words('english') and word not in punctuation_marks:\n",
    "            temp.append(word)\n",
    "    text = temp[:]\n",
    "    temp.clear()\n",
    "    lemmatized_text = [lemmatizer.lemmatize(words) for words in text]\n",
    "\n",
    "    return \" \".join(lemmatized_text)"
   ]
  },
  {
   "cell_type": "code",
   "execution_count": 35,
   "id": "d9d61730",
   "metadata": {},
   "outputs": [],
   "source": [
    "df.to_csv('updated-spam-detection.csv')"
   ]
  },
  {
   "cell_type": "code",
   "execution_count": 36,
   "id": "75170d9f",
   "metadata": {},
   "outputs": [],
   "source": [
    "df[\"processed_text\"] = df[\"messages\"].apply(text_preprocess)"
   ]
  },
  {
   "cell_type": "code",
   "execution_count": 37,
   "id": "e9f4e66b",
   "metadata": {},
   "outputs": [
    {
     "data": {
      "text/html": [
       "<div>\n",
       "<style scoped>\n",
       "    .dataframe tbody tr th:only-of-type {\n",
       "        vertical-align: middle;\n",
       "    }\n",
       "\n",
       "    .dataframe tbody tr th {\n",
       "        vertical-align: top;\n",
       "    }\n",
       "\n",
       "    .dataframe thead th {\n",
       "        text-align: right;\n",
       "    }\n",
       "</style>\n",
       "<table border=\"1\" class=\"dataframe\">\n",
       "  <thead>\n",
       "    <tr style=\"text-align: right;\">\n",
       "      <th></th>\n",
       "      <th>output</th>\n",
       "      <th>messages</th>\n",
       "      <th>num_of_char</th>\n",
       "      <th>no_of_words</th>\n",
       "      <th>processed_text</th>\n",
       "    </tr>\n",
       "  </thead>\n",
       "  <tbody>\n",
       "    <tr>\n",
       "      <th>0</th>\n",
       "      <td>0</td>\n",
       "      <td>Go until jurong point, crazy.. Available only ...</td>\n",
       "      <td>111</td>\n",
       "      <td>24</td>\n",
       "      <td>go jurong point crazy .. available bugis n gre...</td>\n",
       "    </tr>\n",
       "    <tr>\n",
       "      <th>1</th>\n",
       "      <td>0</td>\n",
       "      <td>Ok lar... Joking wif u oni...</td>\n",
       "      <td>29</td>\n",
       "      <td>8</td>\n",
       "      <td>ok lar ... joking wif u oni ...</td>\n",
       "    </tr>\n",
       "    <tr>\n",
       "      <th>2</th>\n",
       "      <td>1</td>\n",
       "      <td>Free entry in 2 a wkly comp to win FA Cup fina...</td>\n",
       "      <td>155</td>\n",
       "      <td>37</td>\n",
       "      <td>free entry 2 wkly comp win fa cup final tkts 2...</td>\n",
       "    </tr>\n",
       "    <tr>\n",
       "      <th>3</th>\n",
       "      <td>0</td>\n",
       "      <td>U dun say so early hor... U c already then say...</td>\n",
       "      <td>49</td>\n",
       "      <td>13</td>\n",
       "      <td>u dun say early hor ... u c already say ...</td>\n",
       "    </tr>\n",
       "    <tr>\n",
       "      <th>4</th>\n",
       "      <td>0</td>\n",
       "      <td>Nah I don't think he goes to usf, he lives aro...</td>\n",
       "      <td>61</td>\n",
       "      <td>15</td>\n",
       "      <td>nah n't think go usf life around though</td>\n",
       "    </tr>\n",
       "  </tbody>\n",
       "</table>\n",
       "</div>"
      ],
      "text/plain": [
       "   output                                           messages  num_of_char  \\\n",
       "0       0  Go until jurong point, crazy.. Available only ...          111   \n",
       "1       0                      Ok lar... Joking wif u oni...           29   \n",
       "2       1  Free entry in 2 a wkly comp to win FA Cup fina...          155   \n",
       "3       0  U dun say so early hor... U c already then say...           49   \n",
       "4       0  Nah I don't think he goes to usf, he lives aro...           61   \n",
       "\n",
       "   no_of_words                                     processed_text  \n",
       "0           24  go jurong point crazy .. available bugis n gre...  \n",
       "1            8                    ok lar ... joking wif u oni ...  \n",
       "2           37  free entry 2 wkly comp win fa cup final tkts 2...  \n",
       "3           13        u dun say early hor ... u c already say ...  \n",
       "4           15            nah n't think go usf life around though  "
      ]
     },
     "execution_count": 37,
     "metadata": {},
     "output_type": "execute_result"
    }
   ],
   "source": [
    "df.head()"
   ]
  },
  {
   "cell_type": "code",
   "execution_count": 38,
   "id": "b9b126f1",
   "metadata": {},
   "outputs": [
    {
     "data": {
      "text/plain": [
       "'Go until jurong point, crazy.. Available only in bugis n great world la e buffet... Cine there got amore wat...'"
      ]
     },
     "execution_count": 38,
     "metadata": {},
     "output_type": "execute_result"
    }
   ],
   "source": [
    "df[\"messages\"][0]"
   ]
  },
  {
   "cell_type": "code",
   "execution_count": 39,
   "id": "f2c04849",
   "metadata": {},
   "outputs": [
    {
     "data": {
      "text/plain": [
       "'go jurong point crazy .. available bugis n great world la e buffet ... cine got amore wat ...'"
      ]
     },
     "execution_count": 39,
     "metadata": {},
     "output_type": "execute_result"
    }
   ],
   "source": [
    "df[\"processed_text\"][0]"
   ]
  },
  {
   "cell_type": "markdown",
   "id": "602835f4",
   "metadata": {},
   "source": [
    "### finding most common words use in the spam msgs\n",
    "\n"
   ]
  },
  {
   "cell_type": "code",
   "execution_count": 40,
   "id": "e50caa93",
   "metadata": {},
   "outputs": [],
   "source": [
    "spam_msgs = df[df[\"output\"]==1]['processed_text'].tolist() #convert spam msgs in list"
   ]
  },
  {
   "cell_type": "code",
   "execution_count": 41,
   "id": "39a0734b",
   "metadata": {},
   "outputs": [],
   "source": [
    "spam_corpus = []\n",
    "for msg in spam_msgs: # iterating through sentece\n",
    "    for word in msg.split(): # iterating words in each sentence\n",
    "        spam_corpus.append(word)"
   ]
  },
  {
   "cell_type": "code",
   "execution_count": 42,
   "id": "704c1937",
   "metadata": {},
   "outputs": [
    {
     "data": {
      "text/plain": [
       "11083"
      ]
     },
     "execution_count": 42,
     "metadata": {},
     "output_type": "execute_result"
    }
   ],
   "source": [
    "len(spam_corpus)"
   ]
  },
  {
   "cell_type": "code",
   "execution_count": 43,
   "id": "75fb2366",
   "metadata": {},
   "outputs": [
    {
     "data": {
      "text/plain": [
       "[('call', 313),\n",
       " ('free', 191),\n",
       " ('2', 155),\n",
       " ('txt', 130),\n",
       " ('u', 126),\n",
       " ('text', 121),\n",
       " ('ur', 119),\n",
       " ('mobile', 114),\n",
       " ('stop', 104),\n",
       " ('claim', 98),\n",
       " ('reply', 97),\n",
       " ('4', 97),\n",
       " ('prize', 82),\n",
       " ('c', 80),\n",
       " ('get', 70),\n",
       " ('new', 64),\n",
       " ('service', 64),\n",
       " ('tone', 63),\n",
       " (\"'s\", 59),\n",
       " ('send', 58),\n",
       " ('urgent', 57),\n",
       " ('nokia', 54),\n",
       " ('phone', 52),\n",
       " ('cash', 51),\n",
       " ('contact', 51),\n",
       " ('week', 49),\n",
       " ('please', 49),\n",
       " ('win', 48),\n",
       " ('min', 45),\n",
       " ('customer', 42),\n",
       " ('guaranteed', 42),\n",
       " ('per', 41),\n",
       " ('message', 40),\n",
       " ('chat', 36),\n",
       " ('msg', 35),\n",
       " ('draw', 35),\n",
       " ('number', 35),\n",
       " ('show', 33),\n",
       " ('today', 33),\n",
       " ('line', 33)]"
      ]
     },
     "execution_count": 43,
     "metadata": {},
     "output_type": "execute_result"
    }
   ],
   "source": [
    "from collections import Counter\n",
    "Counter(spam_corpus).most_common(40)"
   ]
  },
  {
   "cell_type": "markdown",
   "id": "f56760df",
   "metadata": {},
   "source": [
    "### finding most common words use in the ham msgs"
   ]
  },
  {
   "cell_type": "code",
   "execution_count": 44,
   "id": "26abe21c",
   "metadata": {},
   "outputs": [],
   "source": [
    "ham_corpus=[]\n",
    "ham_msgs = df[df[\"output\"]==0][\"processed_text\"].tolist()\n",
    "for sentence in ham_msgs:\n",
    "    for word in sentence.split():\n",
    "        ham_corpus.append(word)\n",
    "        \n",
    "        "
   ]
  },
  {
   "cell_type": "code",
   "execution_count": 45,
   "id": "c9122ebe",
   "metadata": {},
   "outputs": [
    {
     "data": {
      "text/plain": [
       "39894"
      ]
     },
     "execution_count": 45,
     "metadata": {},
     "output_type": "execute_result"
    }
   ],
   "source": [
    "len(ham_corpus)"
   ]
  },
  {
   "cell_type": "code",
   "execution_count": 46,
   "id": "20f391b7",
   "metadata": {},
   "outputs": [
    {
     "data": {
      "text/plain": [
       "[('...', 1073),\n",
       " ('u', 935),\n",
       " ('..', 524),\n",
       " (\"'s\", 413),\n",
       " (\"'m\", 371),\n",
       " (\"n't\", 338),\n",
       " ('get', 304),\n",
       " ('gt', 288),\n",
       " ('lt', 287),\n",
       " ('2', 284),\n",
       " ('go', 267),\n",
       " ('got', 236),\n",
       " ('know', 233),\n",
       " ('come', 226),\n",
       " ('like', 224),\n",
       " ('ok', 217),\n",
       " ('time', 213),\n",
       " ('good', 213),\n",
       " (\"''\", 201),\n",
       " ('ur', 197),\n",
       " (\"'ll\", 195),\n",
       " ('call', 194),\n",
       " ('day', 190),\n",
       " ('want', 179),\n",
       " ('love', 178),\n",
       " ('need', 166),\n",
       " ('one', 165),\n",
       " ('going', 164),\n",
       " ('lor', 159),\n",
       " ('4', 156),\n",
       " ('home', 152),\n",
       " ('still', 143),\n",
       " ('da', 142),\n",
       " ('see', 135),\n",
       " ('think', 130),\n",
       " ('r', 128),\n",
       " ('back', 127),\n",
       " ('take', 126),\n",
       " ('today', 123),\n",
       " ('sorry', 121)]"
      ]
     },
     "execution_count": 46,
     "metadata": {},
     "output_type": "execute_result"
    }
   ],
   "source": [
    "from collections import Counter\n",
    "Counter(ham_corpus).most_common(40)"
   ]
  },
  {
   "cell_type": "markdown",
   "id": "0b991b6d",
   "metadata": {},
   "source": [
    "# 4. Model building"
   ]
  },
  {
   "cell_type": "markdown",
   "id": "b3d2def2-45e5-4514-8221-cfd0a3d6c9c4",
   "metadata": {},
   "source": [
    "- step1: text 2 vector ( using bag of word or TF-idf)\n",
    "- step2: build model"
   ]
  },
  {
   "cell_type": "code",
   "execution_count": 119,
   "id": "e7e0925b-f610-4cc6-ba50-18a73c7d4576",
   "metadata": {},
   "outputs": [],
   "source": [
    "from sklearn.feature_extraction.text import TfidfVectorizer\n",
    "tfidf_vectorizer = TfidfVectorizer(max_features = 2000)\n"
   ]
  },
  {
   "cell_type": "code",
   "execution_count": 123,
   "id": "703f925a-91f3-44ea-9b1e-fc91483820d3",
   "metadata": {},
   "outputs": [],
   "source": [
    "X = tfidf_vectorizer.fit_transform(df[\"processed_text\"]).toarray()"
   ]
  },
  {
   "cell_type": "code",
   "execution_count": 124,
   "id": "59d44050-8a40-4b78-add0-0a5753f90dd0",
   "metadata": {},
   "outputs": [],
   "source": [
    "from sklearn.preprocessing import MinMaxScaler\n",
    "scaler = MinMaxScaler() # uing minmaxscaler instead of standerd scaler. cz standard scaler given negative value\n",
    "X = scaler.fit_transform(X)"
   ]
  },
  {
   "cell_type": "code",
   "execution_count": 125,
   "id": "0bb6b004-afb0-4a67-a8c1-fd8b0e281368",
   "metadata": {},
   "outputs": [
    {
     "data": {
      "text/plain": [
       "(5169, 2000)"
      ]
     },
     "execution_count": 125,
     "metadata": {},
     "output_type": "execute_result"
    }
   ],
   "source": [
    "X.shape"
   ]
  },
  {
   "cell_type": "code",
   "execution_count": 126,
   "id": "fc3773c3-490d-4b98-8028-38399f745cba",
   "metadata": {},
   "outputs": [],
   "source": [
    "y = df[\"output\"].values"
   ]
  },
  {
   "cell_type": "code",
   "execution_count": 127,
   "id": "3f352ae9-ffff-4616-9cbb-70f672921e7e",
   "metadata": {},
   "outputs": [
    {
     "data": {
      "text/plain": [
       "array([0, 0, 1, ..., 0, 0, 0])"
      ]
     },
     "execution_count": 127,
     "metadata": {},
     "output_type": "execute_result"
    }
   ],
   "source": [
    "y"
   ]
  },
  {
   "cell_type": "code",
   "execution_count": 128,
   "id": "914a7387-9716-47f9-a71d-3bc66fae8416",
   "metadata": {},
   "outputs": [],
   "source": [
    "from sklearn.model_selection import train_test_split"
   ]
  },
  {
   "cell_type": "code",
   "execution_count": 129,
   "id": "bfbc14d1-7435-46de-a73e-ec33d64976df",
   "metadata": {},
   "outputs": [],
   "source": [
    "X_train,X_test,y_train,y_test = train_test_split(X,y,test_size = 0.15,random_state = 42)"
   ]
  },
  {
   "cell_type": "code",
   "execution_count": 130,
   "id": "8d064b3b-3538-40f8-955b-e41edf1b157d",
   "metadata": {},
   "outputs": [
    {
     "data": {
      "text/plain": [
       "(4393, 2000)"
      ]
     },
     "execution_count": 130,
     "metadata": {},
     "output_type": "execute_result"
    }
   ],
   "source": [
    "X_train.shape"
   ]
  },
  {
   "cell_type": "code",
   "execution_count": 131,
   "id": "b3f01e64-8b44-4503-b383-631e8fa70588",
   "metadata": {},
   "outputs": [
    {
     "data": {
      "text/plain": [
       "(4393,)"
      ]
     },
     "execution_count": 131,
     "metadata": {},
     "output_type": "execute_result"
    }
   ],
   "source": [
    "y_train.shape"
   ]
  },
  {
   "cell_type": "code",
   "execution_count": 132,
   "id": "b73b139e-3904-41cc-8ffa-f1d20a1220c8",
   "metadata": {},
   "outputs": [],
   "source": [
    "from sklearn.naive_bayes import GaussianNB, MultinomialNB, BernoulliNB\n",
    "from sklearn.metrics import accuracy_score, confusion_matrix, precision_score"
   ]
  },
  {
   "cell_type": "code",
   "execution_count": 133,
   "id": "c6c25b0a-7122-4a36-9527-a4c5a10a35f2",
   "metadata": {},
   "outputs": [],
   "source": [
    "gnb = GaussianNB()\n",
    "mnb =  MultinomialNB()\n",
    "bnb = BernoulliNB()"
   ]
  },
  {
   "cell_type": "code",
   "execution_count": 134,
   "id": "0ac033a4-76ca-40b8-9d8c-6375b61d481b",
   "metadata": {},
   "outputs": [
    {
     "name": "stdout",
     "output_type": "stream",
     "text": [
      "accuracy score of GaussianNB:  0.854381443298969\n",
      "confusion_matrix of GaussianNB: \n",
      "[[565 100]\n",
      " [ 13  98]]\n",
      "precision_score of GaussianNB:  0.494949494949495\n"
     ]
    }
   ],
   "source": [
    "# Gaussian NB\n",
    "gnb.fit(X_train,y_train)\n",
    "Y_pred1= gnb.predict(X_test)\n",
    "\n",
    "print('accuracy score of GaussianNB: ',accuracy_score(y_test,Y_pred1))\n",
    "print('confusion_matrix of GaussianNB: ')\n",
    "print(confusion_matrix(y_test,Y_pred1))\n",
    "print('precision_score of GaussianNB: ',precision_score(y_test,Y_pred1))\n"
   ]
  },
  {
   "cell_type": "code",
   "execution_count": 135,
   "id": "2906080d-46cd-45d9-8eb3-6169ae79eae2",
   "metadata": {},
   "outputs": [
    {
     "name": "stdout",
     "output_type": "stream",
     "text": [
      "accuracy score of MultinomialNB:  0.9806701030927835\n",
      "precision score of MultinomialNB:  0.98\n",
      "confusion_matrix of MultinomialNB: \n",
      "[[663   2]\n",
      " [ 13  98]]\n"
     ]
    }
   ],
   "source": [
    "# Multinomial NB\n",
    "\n",
    "mnb.fit(X_train,y_train)\n",
    "Y_pred2 = mnb.predict(X_test)\n",
    "\n",
    "print(\"accuracy score of MultinomialNB: \",accuracy_score(y_test,Y_pred2))\n",
    "print(\"precision score of MultinomialNB: \",precision_score(y_test,Y_pred2))\n",
    "print('confusion_matrix of MultinomialNB: ')\n",
    "print(confusion_matrix(y_test,Y_pred2))"
   ]
  },
  {
   "cell_type": "code",
   "execution_count": 136,
   "id": "ea198f14-2704-4835-9777-27958576f1ea",
   "metadata": {},
   "outputs": [
    {
     "name": "stdout",
     "output_type": "stream",
     "text": [
      "accuracy score of BernoulliNB:  0.9768041237113402\n",
      "precision score of BernoulliNB:  0.9894736842105263\n",
      "confusion_matrix of BernoulliNB: \n",
      "[[664   1]\n",
      " [ 17  94]]\n"
     ]
    }
   ],
   "source": [
    "# BernoulliNB\n",
    "bnb.fit(X_train,y_train)\n",
    "Y_pred3 = bnb.predict(X_test)\n",
    "\n",
    "print(\"accuracy score of BernoulliNB: \",accuracy_score(y_test,Y_pred3))\n",
    "print(\"precision score of BernoulliNB: \",precision_score(y_test,Y_pred3))\n",
    "print('confusion_matrix of BernoulliNB: ')\n",
    "print(confusion_matrix(y_test,Y_pred3))\n"
   ]
  },
  {
   "cell_type": "code",
   "execution_count": 137,
   "id": "21aa5330-c54e-4d8c-aff1-0950d45343e5",
   "metadata": {},
   "outputs": [],
   "source": [
    "# Observation: Multinomial NB gives best result in terms of precision score. which is more imp here"
   ]
  },
  {
   "cell_type": "code",
   "execution_count": 138,
   "id": "27108923-29d8-4e86-a927-3a0e7a5ea3a2",
   "metadata": {},
   "outputs": [
    {
     "name": "stdout",
     "output_type": "stream",
     "text": [
      "Requirement already satisfied: scikit-learn in c:\\users\\user\\anaconda3\\lib\\site-packages (1.2.2)\n",
      "Requirement already satisfied: xgboost in c:\\users\\user\\anaconda3\\lib\\site-packages (2.0.3)\n",
      "Requirement already satisfied: numpy>=1.17.3 in c:\\users\\user\\anaconda3\\lib\\site-packages (from scikit-learn) (1.26.4)\n",
      "Requirement already satisfied: scipy>=1.3.2 in c:\\users\\user\\anaconda3\\lib\\site-packages (from scikit-learn) (1.11.4)\n",
      "Requirement already satisfied: joblib>=1.1.1 in c:\\users\\user\\anaconda3\\lib\\site-packages (from scikit-learn) (1.2.0)\n",
      "Requirement already satisfied: threadpoolctl>=2.0.0 in c:\\users\\user\\anaconda3\\lib\\site-packages (from scikit-learn) (2.2.0)\n"
     ]
    }
   ],
   "source": [
    "!pip install scikit-learn xgboost"
   ]
  },
  {
   "cell_type": "code",
   "execution_count": 139,
   "id": "1270b085-0be3-4383-b476-6bd5e9aefb8c",
   "metadata": {},
   "outputs": [],
   "source": [
    "# Comparing other ML models with Multinomial model\n",
    "from sklearn.linear_model import LogisticRegression\n",
    "from sklearn.svm import SVC\n",
    "from sklearn.naive_bayes import MultinomialNB\n",
    "from sklearn.tree import DecisionTreeClassifier\n",
    "from sklearn.neighbors import KNeighborsClassifier\n",
    "from sklearn.ensemble import AdaBoostClassifier\n",
    "from sklearn.ensemble import BaggingClassifier\n",
    "from sklearn.ensemble import ExtraTreesClassifier\n",
    "from sklearn.ensemble import GradientBoostingClassifier\n",
    "from xgboost import XGBClassifier\n"
   ]
  },
  {
   "cell_type": "code",
   "execution_count": 140,
   "id": "10aadaad-0d3a-4146-9c16-70bd951624da",
   "metadata": {},
   "outputs": [],
   "source": [
    "\n",
    "logistic_model = LogisticRegression()\n",
    "svc_model = SVC()\n",
    "multinomial_nb_model = MultinomialNB()\n",
    "decision_tree_model = DecisionTreeClassifier()\n",
    "knn_model = KNeighborsClassifier()\n",
    "adaboost_model = AdaBoostClassifier()\n",
    "bagging_model = BaggingClassifier()\n",
    "extra_trees_model = ExtraTreesClassifier()\n",
    "gradient_boost_model = GradientBoostingClassifier()\n",
    "xgb_model = XGBClassifier()\n"
   ]
  },
  {
   "cell_type": "code",
   "execution_count": 141,
   "id": "679956f6-e7b6-4704-bd5c-741f78bb8f77",
   "metadata": {},
   "outputs": [],
   "source": [
    "classifiers = {\n",
    "    'logisticRegression' : logistic_model,\n",
    "    'SVC': svc_model ,\n",
    "    'MultinomialNB':multinomial_nb_model,\n",
    "    'Decition Tree':decision_tree_model,\n",
    "    'KNN':knn_model ,\n",
    "    'AdaBoost':adaboost_model,\n",
    "    'Bagging':bagging_model,\n",
    "    'ExtraTrees' : extra_trees_model,\n",
    "    'Gradient_boost':gradient_boost_model ,\n",
    "    'XGB': xgb_model\n",
    "}"
   ]
  },
  {
   "cell_type": "code",
   "execution_count": 142,
   "id": "4682ac2b-053d-4904-be0e-51d6af56797c",
   "metadata": {},
   "outputs": [],
   "source": [
    "from sklearn.metrics import accuracy_score, confusion_matrix, precision_score"
   ]
  },
  {
   "cell_type": "code",
   "execution_count": 143,
   "id": "6ce44856-9094-4da1-a14d-c1736de78466",
   "metadata": {},
   "outputs": [],
   "source": [
    "def train_classifier(clf,X_train,y_train,X_test,y_test):\n",
    "    clf.fit(X_train,y_train)\n",
    "    y_pred = clf.predict(X_test)\n",
    "    accuracy = accuracy_score(y_test,y_pred)\n",
    "    precision = precision_score(y_test,y_pred)\n",
    "    return accuracy,precision"
   ]
  },
  {
   "cell_type": "code",
   "execution_count": 144,
   "id": "c27f76af-7f9d-4170-ac14-c2cc8b404e3f",
   "metadata": {},
   "outputs": [],
   "source": [
    "accuracy,precision = train_classifier(xgb_model,X_train,y_train,X_test,y_test)"
   ]
  },
  {
   "cell_type": "code",
   "execution_count": 145,
   "id": "5976f32e-583a-4766-9099-7209e8f84cb1",
   "metadata": {},
   "outputs": [
    {
     "name": "stdout",
     "output_type": "stream",
     "text": [
      "0.9755154639175257\n",
      "0.9509803921568627\n"
     ]
    }
   ],
   "source": [
    "print(accuracy)\n",
    "print(precision)"
   ]
  },
  {
   "cell_type": "code",
   "execution_count": 146,
   "id": "fe608da6-90c8-40da-a92d-a29a79f739aa",
   "metadata": {},
   "outputs": [
    {
     "name": "stdout",
     "output_type": "stream",
     "text": [
      "For  logisticRegression\n",
      "accuracy:  0.9742268041237113\n",
      "precision:  0.989247311827957\n",
      "For  SVC\n",
      "accuracy:  0.9806701030927835\n",
      "precision:  1.0\n",
      "For  MultinomialNB\n",
      "accuracy:  0.9806701030927835\n",
      "precision:  0.98\n",
      "For  Decition Tree\n",
      "accuracy:  0.9626288659793815\n",
      "precision:  0.853448275862069\n",
      "For  KNN\n",
      "accuracy:  0.9110824742268041\n",
      "precision:  1.0\n",
      "For  AdaBoost\n",
      "accuracy:  0.9780927835051546\n",
      "precision:  0.9351851851851852\n",
      "For  Bagging\n",
      "accuracy:  0.9690721649484536\n",
      "precision:  0.9142857142857143\n",
      "For  ExtraTrees\n",
      "accuracy:  0.9845360824742269\n",
      "precision:  1.0\n",
      "For  Gradient_boost\n",
      "accuracy:  0.9626288659793815\n",
      "precision:  0.9767441860465116\n",
      "For  XGB\n",
      "accuracy:  0.9755154639175257\n",
      "precision:  0.9509803921568627\n"
     ]
    }
   ],
   "source": [
    "accuracy_scores = []\n",
    "precision_scores = []\n",
    "\n",
    "for name,clf in classifiers.items():\n",
    "    curr_accuracy,curr_precision = train_classifier(clf,X_train,y_train,X_test,y_test)\n",
    "    print(\"For \",name)\n",
    "    print(\"accuracy: \",curr_accuracy)\n",
    "    print(\"precision: \",curr_precision)\n",
    "    accuracy_scores.append(curr_accuracy)\n",
    "    precision_scores.append(curr_precision)\n",
    "    \n",
    "    "
   ]
  },
  {
   "cell_type": "code",
   "execution_count": 147,
   "id": "7f32338a-5431-46d0-b6e2-0917c0d9fa92",
   "metadata": {},
   "outputs": [],
   "source": [
    "import pandas as pd\n",
    "performance_df = pd.DataFrame({\"Algorithms\": classifiers.keys(), \"Accuracy\": accuracy_scores, \"Precision\": precision_scores}).sort_values('Precision',ascending=False)\n"
   ]
  },
  {
   "cell_type": "code",
   "execution_count": 148,
   "id": "b3f3baf6-5998-4597-a24a-d2c7cfe9e8cf",
   "metadata": {},
   "outputs": [
    {
     "data": {
      "text/html": [
       "<div>\n",
       "<style scoped>\n",
       "    .dataframe tbody tr th:only-of-type {\n",
       "        vertical-align: middle;\n",
       "    }\n",
       "\n",
       "    .dataframe tbody tr th {\n",
       "        vertical-align: top;\n",
       "    }\n",
       "\n",
       "    .dataframe thead th {\n",
       "        text-align: right;\n",
       "    }\n",
       "</style>\n",
       "<table border=\"1\" class=\"dataframe\">\n",
       "  <thead>\n",
       "    <tr style=\"text-align: right;\">\n",
       "      <th></th>\n",
       "      <th>Algorithms</th>\n",
       "      <th>Accuracy</th>\n",
       "      <th>Precision</th>\n",
       "    </tr>\n",
       "  </thead>\n",
       "  <tbody>\n",
       "    <tr>\n",
       "      <th>1</th>\n",
       "      <td>SVC</td>\n",
       "      <td>0.980670</td>\n",
       "      <td>1.000000</td>\n",
       "    </tr>\n",
       "    <tr>\n",
       "      <th>4</th>\n",
       "      <td>KNN</td>\n",
       "      <td>0.911082</td>\n",
       "      <td>1.000000</td>\n",
       "    </tr>\n",
       "    <tr>\n",
       "      <th>7</th>\n",
       "      <td>ExtraTrees</td>\n",
       "      <td>0.984536</td>\n",
       "      <td>1.000000</td>\n",
       "    </tr>\n",
       "    <tr>\n",
       "      <th>0</th>\n",
       "      <td>logisticRegression</td>\n",
       "      <td>0.974227</td>\n",
       "      <td>0.989247</td>\n",
       "    </tr>\n",
       "    <tr>\n",
       "      <th>2</th>\n",
       "      <td>MultinomialNB</td>\n",
       "      <td>0.980670</td>\n",
       "      <td>0.980000</td>\n",
       "    </tr>\n",
       "    <tr>\n",
       "      <th>8</th>\n",
       "      <td>Gradient_boost</td>\n",
       "      <td>0.962629</td>\n",
       "      <td>0.976744</td>\n",
       "    </tr>\n",
       "    <tr>\n",
       "      <th>9</th>\n",
       "      <td>XGB</td>\n",
       "      <td>0.975515</td>\n",
       "      <td>0.950980</td>\n",
       "    </tr>\n",
       "    <tr>\n",
       "      <th>5</th>\n",
       "      <td>AdaBoost</td>\n",
       "      <td>0.978093</td>\n",
       "      <td>0.935185</td>\n",
       "    </tr>\n",
       "    <tr>\n",
       "      <th>6</th>\n",
       "      <td>Bagging</td>\n",
       "      <td>0.969072</td>\n",
       "      <td>0.914286</td>\n",
       "    </tr>\n",
       "    <tr>\n",
       "      <th>3</th>\n",
       "      <td>Decition Tree</td>\n",
       "      <td>0.962629</td>\n",
       "      <td>0.853448</td>\n",
       "    </tr>\n",
       "  </tbody>\n",
       "</table>\n",
       "</div>"
      ],
      "text/plain": [
       "           Algorithms  Accuracy  Precision\n",
       "1                 SVC  0.980670   1.000000\n",
       "4                 KNN  0.911082   1.000000\n",
       "7          ExtraTrees  0.984536   1.000000\n",
       "0  logisticRegression  0.974227   0.989247\n",
       "2       MultinomialNB  0.980670   0.980000\n",
       "8      Gradient_boost  0.962629   0.976744\n",
       "9                 XGB  0.975515   0.950980\n",
       "5            AdaBoost  0.978093   0.935185\n",
       "6             Bagging  0.969072   0.914286\n",
       "3       Decition Tree  0.962629   0.853448"
      ]
     },
     "execution_count": 148,
     "metadata": {},
     "output_type": "execute_result"
    }
   ],
   "source": [
    "performance_df "
   ]
  },
  {
   "cell_type": "code",
   "execution_count": 149,
   "id": "3f5b2791-a5fb-433e-813f-d433e0f723b7",
   "metadata": {},
   "outputs": [],
   "source": [
    "# Voting classifier : to make combination of best performing model so that model can be approved.\n",
    "svc = SVC()\n",
    "etc = ExtraTreesClassifier()# ExtraTrees\n",
    "mnb = MultinomialNB()\n",
    "\n",
    "from sklearn.ensemble import VotingClassifier"
   ]
  },
  {
   "cell_type": "code",
   "execution_count": 150,
   "id": "cf109617-1d2d-402d-9438-ef72bcae3854",
   "metadata": {},
   "outputs": [],
   "source": [
    "voting_clf = VotingClassifier(estimators = [('svm',svc),('nb',mnb),('et',etc)],voting=\"hard\")"
   ]
  },
  {
   "cell_type": "code",
   "execution_count": 151,
   "id": "81e08ea2-567b-4dee-803d-bf5fe0015445",
   "metadata": {},
   "outputs": [
    {
     "data": {
      "text/html": [
       "<style>#sk-container-id-4 {color: black;background-color: white;}#sk-container-id-4 pre{padding: 0;}#sk-container-id-4 div.sk-toggleable {background-color: white;}#sk-container-id-4 label.sk-toggleable__label {cursor: pointer;display: block;width: 100%;margin-bottom: 0;padding: 0.3em;box-sizing: border-box;text-align: center;}#sk-container-id-4 label.sk-toggleable__label-arrow:before {content: \"▸\";float: left;margin-right: 0.25em;color: #696969;}#sk-container-id-4 label.sk-toggleable__label-arrow:hover:before {color: black;}#sk-container-id-4 div.sk-estimator:hover label.sk-toggleable__label-arrow:before {color: black;}#sk-container-id-4 div.sk-toggleable__content {max-height: 0;max-width: 0;overflow: hidden;text-align: left;background-color: #f0f8ff;}#sk-container-id-4 div.sk-toggleable__content pre {margin: 0.2em;color: black;border-radius: 0.25em;background-color: #f0f8ff;}#sk-container-id-4 input.sk-toggleable__control:checked~div.sk-toggleable__content {max-height: 200px;max-width: 100%;overflow: auto;}#sk-container-id-4 input.sk-toggleable__control:checked~label.sk-toggleable__label-arrow:before {content: \"▾\";}#sk-container-id-4 div.sk-estimator input.sk-toggleable__control:checked~label.sk-toggleable__label {background-color: #d4ebff;}#sk-container-id-4 div.sk-label input.sk-toggleable__control:checked~label.sk-toggleable__label {background-color: #d4ebff;}#sk-container-id-4 input.sk-hidden--visually {border: 0;clip: rect(1px 1px 1px 1px);clip: rect(1px, 1px, 1px, 1px);height: 1px;margin: -1px;overflow: hidden;padding: 0;position: absolute;width: 1px;}#sk-container-id-4 div.sk-estimator {font-family: monospace;background-color: #f0f8ff;border: 1px dotted black;border-radius: 0.25em;box-sizing: border-box;margin-bottom: 0.5em;}#sk-container-id-4 div.sk-estimator:hover {background-color: #d4ebff;}#sk-container-id-4 div.sk-parallel-item::after {content: \"\";width: 100%;border-bottom: 1px solid gray;flex-grow: 1;}#sk-container-id-4 div.sk-label:hover label.sk-toggleable__label {background-color: #d4ebff;}#sk-container-id-4 div.sk-serial::before {content: \"\";position: absolute;border-left: 1px solid gray;box-sizing: border-box;top: 0;bottom: 0;left: 50%;z-index: 0;}#sk-container-id-4 div.sk-serial {display: flex;flex-direction: column;align-items: center;background-color: white;padding-right: 0.2em;padding-left: 0.2em;position: relative;}#sk-container-id-4 div.sk-item {position: relative;z-index: 1;}#sk-container-id-4 div.sk-parallel {display: flex;align-items: stretch;justify-content: center;background-color: white;position: relative;}#sk-container-id-4 div.sk-item::before, #sk-container-id-4 div.sk-parallel-item::before {content: \"\";position: absolute;border-left: 1px solid gray;box-sizing: border-box;top: 0;bottom: 0;left: 50%;z-index: -1;}#sk-container-id-4 div.sk-parallel-item {display: flex;flex-direction: column;z-index: 1;position: relative;background-color: white;}#sk-container-id-4 div.sk-parallel-item:first-child::after {align-self: flex-end;width: 50%;}#sk-container-id-4 div.sk-parallel-item:last-child::after {align-self: flex-start;width: 50%;}#sk-container-id-4 div.sk-parallel-item:only-child::after {width: 0;}#sk-container-id-4 div.sk-dashed-wrapped {border: 1px dashed gray;margin: 0 0.4em 0.5em 0.4em;box-sizing: border-box;padding-bottom: 0.4em;background-color: white;}#sk-container-id-4 div.sk-label label {font-family: monospace;font-weight: bold;display: inline-block;line-height: 1.2em;}#sk-container-id-4 div.sk-label-container {text-align: center;}#sk-container-id-4 div.sk-container {/* jupyter's `normalize.less` sets `[hidden] { display: none; }` but bootstrap.min.css set `[hidden] { display: none !important; }` so we also need the `!important` here to be able to override the default hidden behavior on the sphinx rendered scikit-learn.org. See: https://github.com/scikit-learn/scikit-learn/issues/21755 */display: inline-block !important;position: relative;}#sk-container-id-4 div.sk-text-repr-fallback {display: none;}</style><div id=\"sk-container-id-4\" class=\"sk-top-container\"><div class=\"sk-text-repr-fallback\"><pre>VotingClassifier(estimators=[(&#x27;svm&#x27;, SVC()), (&#x27;nb&#x27;, MultinomialNB()),\n",
       "                             (&#x27;et&#x27;, ExtraTreesClassifier())])</pre><b>In a Jupyter environment, please rerun this cell to show the HTML representation or trust the notebook. <br />On GitHub, the HTML representation is unable to render, please try loading this page with nbviewer.org.</b></div><div class=\"sk-container\" hidden><div class=\"sk-item sk-dashed-wrapped\"><div class=\"sk-label-container\"><div class=\"sk-label sk-toggleable\"><input class=\"sk-toggleable__control sk-hidden--visually\" id=\"sk-estimator-id-13\" type=\"checkbox\" ><label for=\"sk-estimator-id-13\" class=\"sk-toggleable__label sk-toggleable__label-arrow\">VotingClassifier</label><div class=\"sk-toggleable__content\"><pre>VotingClassifier(estimators=[(&#x27;svm&#x27;, SVC()), (&#x27;nb&#x27;, MultinomialNB()),\n",
       "                             (&#x27;et&#x27;, ExtraTreesClassifier())])</pre></div></div></div><div class=\"sk-parallel\"><div class=\"sk-parallel-item\"><div class=\"sk-item\"><div class=\"sk-label-container\"><div class=\"sk-label sk-toggleable\"><label>svm</label></div></div><div class=\"sk-serial\"><div class=\"sk-item\"><div class=\"sk-estimator sk-toggleable\"><input class=\"sk-toggleable__control sk-hidden--visually\" id=\"sk-estimator-id-14\" type=\"checkbox\" ><label for=\"sk-estimator-id-14\" class=\"sk-toggleable__label sk-toggleable__label-arrow\">SVC</label><div class=\"sk-toggleable__content\"><pre>SVC()</pre></div></div></div></div></div></div><div class=\"sk-parallel-item\"><div class=\"sk-item\"><div class=\"sk-label-container\"><div class=\"sk-label sk-toggleable\"><label>nb</label></div></div><div class=\"sk-serial\"><div class=\"sk-item\"><div class=\"sk-estimator sk-toggleable\"><input class=\"sk-toggleable__control sk-hidden--visually\" id=\"sk-estimator-id-15\" type=\"checkbox\" ><label for=\"sk-estimator-id-15\" class=\"sk-toggleable__label sk-toggleable__label-arrow\">MultinomialNB</label><div class=\"sk-toggleable__content\"><pre>MultinomialNB()</pre></div></div></div></div></div></div><div class=\"sk-parallel-item\"><div class=\"sk-item\"><div class=\"sk-label-container\"><div class=\"sk-label sk-toggleable\"><label>et</label></div></div><div class=\"sk-serial\"><div class=\"sk-item\"><div class=\"sk-estimator sk-toggleable\"><input class=\"sk-toggleable__control sk-hidden--visually\" id=\"sk-estimator-id-16\" type=\"checkbox\" ><label for=\"sk-estimator-id-16\" class=\"sk-toggleable__label sk-toggleable__label-arrow\">ExtraTreesClassifier</label><div class=\"sk-toggleable__content\"><pre>ExtraTreesClassifier()</pre></div></div></div></div></div></div></div></div></div></div>"
      ],
      "text/plain": [
       "VotingClassifier(estimators=[('svm', SVC()), ('nb', MultinomialNB()),\n",
       "                             ('et', ExtraTreesClassifier())])"
      ]
     },
     "execution_count": 151,
     "metadata": {},
     "output_type": "execute_result"
    }
   ],
   "source": [
    "voting_clf.fit(X_train,y_train)"
   ]
  },
  {
   "cell_type": "code",
   "execution_count": 152,
   "id": "e50f495d-8991-45b8-b26c-1ace2c8cc54a",
   "metadata": {},
   "outputs": [],
   "source": [
    "from sklearn.metrics import accuracy_score,precision_score"
   ]
  },
  {
   "cell_type": "code",
   "execution_count": 153,
   "id": "5f023a8b-02c6-4372-a891-310c1d1e132f",
   "metadata": {},
   "outputs": [
    {
     "name": "stdout",
     "output_type": "stream",
     "text": [
      "Accuracy:  0.9845360824742269\n",
      "Precision :  1.0\n"
     ]
    }
   ],
   "source": [
    "\n",
    "y_pred = voting_clf.predict(X_test)\n",
    "print(\"Accuracy: \",accuracy_score(y_test,y_pred))\n",
    "print(\"Precision : \",precision_score(y_test,y_pred))"
   ]
  },
  {
   "cell_type": "code",
   "execution_count": 154,
   "id": "41dafcba-a229-403b-9285-5e711ee038ba",
   "metadata": {},
   "outputs": [],
   "source": [
    "# voting classifies gives best result till now."
   ]
  },
  {
   "cell_type": "code",
   "execution_count": 155,
   "id": "8cea7858-9187-4799-b1f5-1a30f2f464ca",
   "metadata": {},
   "outputs": [],
   "source": [
    "#pipeline;\n",
    "# whenever we get new emain we have check 3 step:\n",
    "# 1. text pre process : lower case, tokenization, lemmatization\n",
    "# 2 text 2 vector\n",
    "# 3 apply algorithm"
   ]
  },
  {
   "cell_type": "code",
   "execution_count": 156,
   "id": "150a9f0e-16db-4f30-8316-caa001523721",
   "metadata": {},
   "outputs": [],
   "source": [
    "import pickle\n",
    "pickle.dump(tfidf_vectorizer,open('vectorizer.pkl','wb'))\n",
    "pickle.dump(voting_clf,open('model.pkl','wb'))"
   ]
  },
  {
   "cell_type": "code",
   "execution_count": null,
   "id": "bae48f18-3795-4cc4-afba-f996b1db2323",
   "metadata": {},
   "outputs": [],
   "source": []
  }
 ],
 "metadata": {
  "kernelspec": {
   "display_name": "Python 3 (ipykernel)",
   "language": "python",
   "name": "python3"
  },
  "language_info": {
   "codemirror_mode": {
    "name": "ipython",
    "version": 3
   },
   "file_extension": ".py",
   "mimetype": "text/x-python",
   "name": "python",
   "nbconvert_exporter": "python",
   "pygments_lexer": "ipython3",
   "version": "3.11.7"
  }
 },
 "nbformat": 4,
 "nbformat_minor": 5
}
